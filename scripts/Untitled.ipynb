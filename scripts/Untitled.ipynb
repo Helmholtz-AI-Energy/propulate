{
 "cells": [
  {
   "cell_type": "code",
   "execution_count": 1,
   "id": "6f18d5e3",
   "metadata": {},
   "outputs": [],
   "source": [
    "import numpy as np"
   ]
  },
  {
   "cell_type": "code",
   "execution_count": 2,
   "id": "d6ad9c01",
   "metadata": {},
   "outputs": [],
   "source": [
    "island_sizes = np.array([0,0,0,1,1,2,2,2,2])"
   ]
  },
  {
   "cell_type": "code",
   "execution_count": 6,
   "id": "665d64ba",
   "metadata": {},
   "outputs": [
    {
     "name": "stdout",
     "output_type": "stream",
     "text": [
      "[0. 0. 0. 0. 0. 0. 0. 0. 0.]\n",
      "[1. 0. 0. 1. 0. 1. 0. 0. 0.]\n"
     ]
    }
   ],
   "source": [
    "unique = np.unique(island_sizes) # Determine unique elements, where # unique elements equals number of islands.\n",
    "inter_color = np.zeros(island_sizes.size)     # Initialize inter color with only zeros.\n",
    "print(inter_color)\n",
    "# Determine rank 0 of each island, i.e., first occurrence of each unique element in `island_sizes`.\n",
    "inter_rank = []\n",
    "for el in unique: # Loop over unique elements in `island_sizes`.\n",
    "    inter_rank.append(np.where(island_sizes==el)[0][0]) # Determine first occurrence of each unique element considered.\n",
    "\n",
    "inter_rank = np.array(inter_rank)\n",
    "inter_color[inter_rank] = 1\n",
    "print(inter_color)"
   ]
  },
  {
   "cell_type": "code",
   "execution_count": 7,
   "id": "2e2dbcbf",
   "metadata": {},
   "outputs": [],
   "source": [
    "l=[10*0]"
   ]
  },
  {
   "cell_type": "code",
   "execution_count": 8,
   "id": "00e7c1e2",
   "metadata": {},
   "outputs": [
    {
     "name": "stdout",
     "output_type": "stream",
     "text": [
      "[0]\n"
     ]
    }
   ],
   "source": [
    "print(l)"
   ]
  },
  {
   "cell_type": "code",
   "execution_count": null,
   "id": "96651ed4",
   "metadata": {},
   "outputs": [],
   "source": []
  }
 ],
 "metadata": {
  "kernelspec": {
   "display_name": "Python 3 (ipykernel)",
   "language": "python",
   "name": "python3"
  },
  "language_info": {
   "codemirror_mode": {
    "name": "ipython",
    "version": 3
   },
   "file_extension": ".py",
   "mimetype": "text/x-python",
   "name": "python",
   "nbconvert_exporter": "python",
   "pygments_lexer": "ipython3",
   "version": "3.9.5"
  }
 },
 "nbformat": 4,
 "nbformat_minor": 5
}
